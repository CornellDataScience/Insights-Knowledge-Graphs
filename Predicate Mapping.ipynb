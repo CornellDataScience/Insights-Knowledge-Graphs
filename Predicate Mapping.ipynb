{
 "cells": [
  {
   "cell_type": "markdown",
   "metadata": {},
   "source": [
    "# INSTRUCTIONS:\n",
    "1) Generate tuples using AllenNLP\n",
    "2) "
   ]
  },
  {
   "cell_type": "code",
   "execution_count": 1,
   "metadata": {},
   "outputs": [],
   "source": [
    "import numpy as np"
   ]
  },
  {
   "cell_type": "code",
   "execution_count": 214,
   "metadata": {},
   "outputs": [],
   "source": [
    "def get_relation_ids(ridfile):\n",
    "    with open(ridfile, 'r') as infile:\n",
    "        lines = infile.read().split('\\n')\n",
    "        rlist = [''] * len(lines)\n",
    "        for pair in lines:\n",
    "            p = pair.split('\\t')\n",
    "            rlist[int(p[1])] = p[0]\n",
    "    return rlist\n",
    "    \n",
    "def get_relation_vectors(rvecfile):\n",
    "    with open(rvecfile, 'r') as infile:\n",
    "        lines = infile.read().split('\\n')\n",
    "        rlist = [np.array([float(s) for s in vec.split('\\t') if len(s) > 0]) for vec in lines]\n",
    "    return np.array(rlist)\n",
    "        \n",
    "\n",
    "def combine_relations(R, thresh):\n",
    "    \"\"\"\n",
    "    R is a (M, N) matrix where M is the number of relations and N is the size of a relation\n",
    "    Returns a list of K indices and a (K, N) matrix where K is the new number of relations \n",
    "    which have been combined based on the cosine similarity threshold\n",
    "    \"\"\"\n",
    "    still_combining = True\n",
    "    combined = np.copy(R)\n",
    "    indices = list(range(len(R)))\n",
    "    newindices = list(range(len(R)))\n",
    "    while still_combining:\n",
    "        still_combining = False\n",
    "        for i in range(len(combined)):\n",
    "            for j in range(len(combined)-1,i,-1):\n",
    "                cos_sim = np.dot(combined[i,:], combined[j,:]) / (np.linalg.norm(combined[i,:]) * np.linalg.norm(combined[j,:]))\n",
    "                if cos_sim > thresh:\n",
    "                    still_combining = True\n",
    "                    combined = np.delete(combined, j, 0)\n",
    "                    newindices[indices.pop(j)] = i\n",
    "    return newindices, combined\n",
    "\n",
    "def reduce_relations(ridfile, rvecfile, thresh):\n",
    "    rids = get_relation_ids(ridfile)\n",
    "    rvecs = get_relation_vectors(rvecfile)\n",
    "    newids, rvecs = combine_relations(rvecs, thresh)\n",
    "    return [rids[i] for i in newids]\n",
    "    "
   ]
  },
  {
   "cell_type": "code",
   "execution_count": 215,
   "metadata": {},
   "outputs": [
    {
     "data": {
      "text/plain": [
       "([0, 0, 2], array([[1, 0, 0],\n",
       "        [0, 1, 0]]))"
      ]
     },
     "execution_count": 215,
     "metadata": {},
     "output_type": "execute_result"
    }
   ],
   "source": [
    "a = np.array([[1,0,0],[1,0,0],[0,1,0]])\n",
    "combine_relations(a, 0.5)"
   ]
  },
  {
   "cell_type": "code",
   "execution_count": 230,
   "metadata": {},
   "outputs": [
    {
     "data": {
      "text/plain": [
       "[('draft and was selected', 'draft and was selected'),\n",
       " ('continued to be', 'continued to be'),\n",
       " ('was named', 'was named'),\n",
       " ('led', 'led'),\n",
       " ('won', 'won'),\n",
       " ('are tied', 'are tied'),\n",
       " ('led', 'dropped'),\n",
       " ('earning', 'earning'),\n",
       " ('was recognized', 'was recognized'),\n",
       " ('to start', 'to start'),\n",
       " ('suffered', 'suffered'),\n",
       " ('to reach', 'to reach'),\n",
       " ('was recognized', 'was awarded'),\n",
       " ('was recognized', 'was chosen'),\n",
       " ('traded', 'traded'),\n",
       " ('was settled', 'was settled'),\n",
       " ('earning', 'announced'),\n",
       " ('is', 'is'),\n",
       " ('dropped', 'enjoyed'),\n",
       " ('would retire', 'would retire'),\n",
       " ('played', 'played'),\n",
       " ('suffered', 'lost'),\n",
       " ('by winning', 'by winning'),\n",
       " ('he would continue to be selected', 'he would continue to be selected'),\n",
       " ('losing', 'losing'),\n",
       " ('pick', 'pick'),\n",
       " ('continued to be', 'declared'),\n",
       " ('was named', 'ending'),\n",
       " ('was traded', 'was traded'),\n",
       " ('entered', 'entered'),\n",
       " ('enjoyed', 'leading'),\n",
       " ('earned', 'earned'),\n",
       " ('draft and was selected', 'surpassed'),\n",
       " ('scored', 'scored'),\n",
       " ('is', 'became'),\n",
       " ('tendon', 'tendon'),\n",
       " ('was chosen', 'were'),\n",
       " ('would retire', 'to play'),\n",
       " ('ranks', 'ranks'),\n",
       " ('born', 'born'),\n",
       " ('was limited', 'was limited')]"
      ]
     },
     "execution_count": 230,
     "metadata": {},
     "output_type": "execute_result"
    }
   ],
   "source": [
    "list(zip(reduce_relations('relation2id.txt', 'relation2vec.csv', 0.22), get_relation_ids('relation2id.txt')))"
   ]
  },
  {
   "cell_type": "code",
   "execution_count": 189,
   "metadata": {},
   "outputs": [],
   "source": [
    "def create_relation_entity_files(triplefile, relationfile, entityfile):\n",
    "    entities = set()\n",
    "    relations = set()\n",
    "    with open(triplefile, 'r') as infile:\n",
    "        for line in infile.read().split('\\n'):\n",
    "            if line == '':\n",
    "                continue\n",
    "            triple = line.split('\\t')\n",
    "            entities.add(triple[0])\n",
    "            entities.add(triple[1])\n",
    "            relations.add(triple[2])\n",
    "    entities = list(entities)\n",
    "    relations = list(relations)\n",
    "    with open(relationfile, 'w') as outfile:\n",
    "        outfile.write('\\n'.join([relations[i] + '\\t' + str(i) for i in range(len(relations))]))\n",
    "    with open(entityfile, 'w') as outfile:\n",
    "        outfile.write('\\n'.join([entities[i] + \"\\t\" + str(i) for i in range(len(entities))]))"
   ]
  },
  {
   "cell_type": "code",
   "execution_count": 190,
   "metadata": {},
   "outputs": [],
   "source": [
    "create_relation_entity_files('relation_tuples.txt', 'relation2id.txt', 'entity2id.txt')"
   ]
  },
  {
   "cell_type": "code",
   "execution_count": 231,
   "metadata": {},
   "outputs": [
    {
     "data": {
      "text/plain": [
       "'\\nINSTRUCTIONS:\\n'"
      ]
     },
     "execution_count": 231,
     "metadata": {},
     "output_type": "execute_result"
    }
   ],
   "source": []
  },
  {
   "cell_type": "code",
   "execution_count": null,
   "metadata": {},
   "outputs": [],
   "source": []
  }
 ],
 "metadata": {
  "kernelspec": {
   "display_name": "Python 3",
   "language": "python",
   "name": "python3"
  },
  "language_info": {
   "codemirror_mode": {
    "name": "ipython",
    "version": 3
   },
   "file_extension": ".py",
   "mimetype": "text/x-python",
   "name": "python",
   "nbconvert_exporter": "python",
   "pygments_lexer": "ipython3",
   "version": "3.7.0"
  }
 },
 "nbformat": 4,
 "nbformat_minor": 2
}
