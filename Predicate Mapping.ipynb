{
 "cells": [
  {
   "cell_type": "code",
   "execution_count": 1,
   "metadata": {},
   "outputs": [],
   "source": [
    "import numpy as np"
   ]
  },
  {
   "cell_type": "code",
   "execution_count": 72,
   "metadata": {},
   "outputs": [],
   "source": [
    "def combine_relations(R, thresh):\n",
    "    \"\"\"\n",
    "    R is a (M, N) matrix where M is the number of relations and N is the size of a relation\n",
    "    Returns a (K, N) matrix where K is the new number of relations\n",
    "    \"\"\"\n",
    "    still_combining = True\n",
    "    combined = np.copy(R)\n",
    "    while still_combining:\n",
    "        still_combining = False\n",
    "        for i in range(len(combined)):\n",
    "            for j in range(len(combined)-1,i,-1):\n",
    "                cos_sim = np.dot(combined[i,:], combined[j,:]) / (np.linalg.norm(combined[i,:]) * np.linalg.norm(combined[j,:]))\n",
    "                if cos_sim > thresh:\n",
    "                    still_combining = True\n",
    "                    combined = np.delete(combined, j, 0)\n",
    "    return combined"
   ]
  },
  {
   "cell_type": "code",
   "execution_count": 73,
   "metadata": {},
   "outputs": [
    {
     "data": {
      "text/plain": [
       "array([[1, 0, 0],\n",
       "       [0, 1, 0]])"
      ]
     },
     "execution_count": 73,
     "metadata": {},
     "output_type": "execute_result"
    }
   ],
   "source": [
    "a = np.array([[1,0,0],[1,0,0],[0,1,0]])\n",
    "combine_relations(a, 0.5)"
   ]
  },
  {
   "cell_type": "code",
   "execution_count": null,
   "metadata": {},
   "outputs": [],
   "source": []
  }
 ],
 "metadata": {
  "kernelspec": {
   "display_name": "Python 3",
   "language": "python",
   "name": "python3"
  },
  "language_info": {
   "codemirror_mode": {
    "name": "ipython",
    "version": 3
   },
   "file_extension": ".py",
   "mimetype": "text/x-python",
   "name": "python",
   "nbconvert_exporter": "python",
   "pygments_lexer": "ipython3",
   "version": "3.7.0"
  }
 },
 "nbformat": 4,
 "nbformat_minor": 2
}
