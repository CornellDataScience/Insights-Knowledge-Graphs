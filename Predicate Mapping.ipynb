{
 "cells": [
  {
   "cell_type": "markdown",
   "metadata": {},
   "source": [
    "# INSTRUCTIONS:\n",
    "1) Generate tuples using AllenNLP\n",
    "\n",
    "2) Call create_id_files\n",
    "\n",
    "3) Run Train_TransE\n",
    "\n",
    "4) Call reduce_relations"
   ]
  },
  {
   "cell_type": "code",
   "execution_count": 9,
   "metadata": {},
   "outputs": [],
   "source": [
    "import numpy as np\n",
    "import json\n",
    "import matplotlib.pyplot as plt"
   ]
  },
  {
   "cell_type": "code",
   "execution_count": 20,
   "metadata": {},
   "outputs": [],
   "source": [
    "def get_ids(idfile):\n",
    "    with open(idfile, 'r') as infile:\n",
    "        lines = infile.read().split('\\n')[:-1]\n",
    "        ilist = [''] * len(lines)\n",
    "        for pair in lines:\n",
    "            p = pair.split('\\t')\n",
    "            ilist[int(p[1])] = p[0]\n",
    "    return ilist\n",
    "    \n",
    "def get_vectors(vecfile):\n",
    "    with open(vecfile, 'r') as infile:\n",
    "        lines = infile.read().split('\\n')[:-1]\n",
    "        vlist = [np.array([float(s) for s in vec.split('\\t') if len(s) > 0]) for vec in lines]\n",
    "    return np.array(vlist)\n",
    "\n",
    "def combine_relations(R, thresh):\n",
    "    \"\"\"\n",
    "    R is a (M, N) matrix where M is the number of relations and N is the size of a relation\n",
    "    Returns a list of K indices and a (K, N) matrix where K is the new number of relations \n",
    "    which have been combined based on the cosine similarity threshold\n",
    "    \"\"\"\n",
    "    still_combining = True\n",
    "    combined = np.copy(R)\n",
    "    indices = list(range(len(R)))\n",
    "    newindices = list(range(len(R)))\n",
    "    while still_combining:\n",
    "        still_combining = False\n",
    "        for i in range(len(combined)):\n",
    "            for j in range(len(combined)-1,i,-1):\n",
    "                cos_sim = np.dot(combined[i,:], combined[j,:]) / (np.linalg.norm(combined[i,:]) * np.linalg.norm(combined[j,:]))\n",
    "                if cos_sim > thresh:\n",
    "                    still_combining = True\n",
    "                    combined = np.delete(combined, j, 0)\n",
    "                    newindices[indices.pop(j)] = i\n",
    "    return newindices, combined\n",
    "\n",
    "def reduce_relations(ridfile, rvecfile, reducefile, thresh):\n",
    "    rids = get_ids(ridfile)\n",
    "    rvecs = get_vectors(rvecfile)\n",
    "    newids, rvecs = combine_relations(rvecs, thresh)\n",
    "    with open(reducefile, \"w\") as outfile:\n",
    "      for i in range(len(newids)):\n",
    "        outfile.write(\"%s\\t%s\\n\" %(rids[newids[i]], i))\n",
    "    return [rids[i] for i in newids]\n"
   ]
  },
  {
   "cell_type": "code",
   "execution_count": 11,
   "metadata": {},
   "outputs": [
    {
     "data": {
      "text/plain": [
       "([0, 0, 2], array([[1, 0, 0],\n",
       "        [0, 1, 0]]))"
      ]
     },
     "execution_count": 11,
     "metadata": {},
     "output_type": "execute_result"
    }
   ],
   "source": [
    "a = np.array([[1,0,0],[1,0,0],[0,1,0]])\n",
    "combine_relations(a, 0.5)"
   ]
  },
  {
   "cell_type": "code",
   "execution_count": 21,
   "metadata": {},
   "outputs": [
    {
     "data": {
      "text/plain": [
       "[('earned', 'earned'),\n",
       " ('was_recognized', 'was_recognized'),\n",
       " ('ending', 'ending'),\n",
       " ('surpassed', 'surpassed'),\n",
       " ('played', 'played'),\n",
       " ('by_winning', 'by_winning'),\n",
       " ('announced', 'announced'),\n",
       " ('was_named', 'was_named'),\n",
       " ('lost', 'lost'),\n",
       " ('was_recognized', 'to_start'),\n",
       " ('scored', 'scored'),\n",
       " ('draft_and_was_selected', 'draft_and_was_selected'),\n",
       " ('leading', 'leading'),\n",
       " ('won', 'won'),\n",
       " ('declared', 'declared'),\n",
       " ('is', 'is'),\n",
       " ('was_traded', 'was_traded'),\n",
       " ('declared', 'ranks'),\n",
       " ('are_tied', 'are_tied'),\n",
       " ('was_awarded', 'was_awarded'),\n",
       " ('announced', 'led'),\n",
       " ('pick', 'pick'),\n",
       " ('suffered', 'suffered'),\n",
       " ('entered', 'entered'),\n",
       " ('became', 'became'),\n",
       " ('traded', 'traded'),\n",
       " ('was_named', 'losing'),\n",
       " ('declared', 'to_play'),\n",
       " ('was_limited', 'was_limited'),\n",
       " ('was_recognized', 'was_chosen'),\n",
       " ('are_tied', 'was_settled'),\n",
       " ('dropped', 'dropped'),\n",
       " ('earning', 'earning'),\n",
       " ('would_retire', 'would_retire'),\n",
       " ('enjoyed', 'enjoyed'),\n",
       " ('ranks', 'he_would_continue_to_be_selected'),\n",
       " ('were', 'were'),\n",
       " ('tendon', 'tendon'),\n",
       " ('born', 'born'),\n",
       " ('played', 'continued_to_be'),\n",
       " ('to_reach', 'to_reach')]"
      ]
     },
     "execution_count": 21,
     "metadata": {},
     "output_type": "execute_result"
    }
   ],
   "source": [
    "list(zip(reduce_relations('data/relation2id.txt', 'data/relation2vec.csv', 'data/combined_relations.txt', 0.22), get_ids('data/relation2id.txt')))"
   ]
  },
  {
   "cell_type": "code",
   "execution_count": 15,
   "metadata": {},
   "outputs": [],
   "source": [
    "def create_id_files(triplefile, relationfile, entityfile):\n",
    "    entities = set()\n",
    "    relations = set()\n",
    "    with open(triplefile, 'r') as infile:\n",
    "        for line in infile.read().split('\\n'):\n",
    "            if line == '':\n",
    "                continue\n",
    "            triple = line.split('\\t')\n",
    "            entities.add(triple[0])\n",
    "            entities.add(triple[1])\n",
    "            relations.add(triple[2])\n",
    "    entities = list(entities)\n",
    "    relations = list(relations)\n",
    "    with open(relationfile, 'w') as outfile:\n",
    "        outfile.write('\\n'.join([relations[i] + '\\t' + str(i) for i in range(len(relations))]))\n",
    "        outfile.write('\\n')\n",
    "    with open(entityfile, 'w') as outfile:\n",
    "        outfile.write('\\n'.join([entities[i] + \"\\t\" + str(i) for i in range(len(entities))]))\n",
    "        outfile.write('\\n')"
   ]
  },
  {
   "cell_type": "code",
   "execution_count": 16,
   "metadata": {},
   "outputs": [],
   "source": [
    "create_id_files('data/relation_tuples.txt', 'data/relation2id.txt', 'data/entity2id.txt')"
   ]
  },
  {
   "cell_type": "code",
   "execution_count": 7,
   "metadata": {},
   "outputs": [],
   "source": [
    "def to_json(eidfile, triplefile, jsonfile):\n",
    "    jsondict = {\"nodes\": [], \"links\": []}\n",
    "    entities = get_ids(eidfile)\n",
    "    \n",
    "    for i in range(len(entities)):\n",
    "        jsondict[\"nodes\"].append({\"id\": i, \"name\": entities[i]})\n",
    "        \n",
    "    with open(triplefile, 'r') as infile:\n",
    "        for line in infile.read().split('\\n'):\n",
    "            if line == '':\n",
    "                continue\n",
    "            triple = line.split('\\t')\n",
    "            jsondict[\"links\"].append({\"source\": entities.index(triple[0]),\"target\": entities.index(triple[1]),\"name\":triple[2]})\n",
    "    \n",
    "    with open(jsonfile, 'w') as outfile:\n",
    "        outfile.write(json.dumps(jsondict))"
   ]
  },
  {
   "cell_type": "code",
   "execution_count": 8,
   "metadata": {},
   "outputs": [],
   "source": [
    "#to_json('data/entity2id.txt', 'data/relation_tuples.txt', 'viz/relations.json')"
   ]
  },
  {
   "cell_type": "code",
   "execution_count": null,
   "metadata": {},
   "outputs": [],
   "source": [
    "def heat_map():\n",
    "    # sphinx_gallery_thumbnail_number = 2\n",
    "    vegetables = [\"cucumber\", \"tomato\", \"lettuce\", \"asparagus\",\n",
    "                  \"potato\", \"wheat\", \"barley\"]\n",
    "    farmers = [\"Farmer Joe\", \"Upland Bros.\", \"Smith Gardening\",\n",
    "               \"Agrifun\", \"Organiculture\", \"BioGoods Ltd.\", \"Cornylee Corp.\"]\n",
    "\n",
    "    harvest = np.array([[0.8, 2.4, 2.5, 3.9, 0.0, 4.0, 0.0],\n",
    "                        [2.4, 0.0, 4.0, 1.0, 2.7, 0.0, 0.0],\n",
    "                        [1.1, 2.4, 0.8, 4.3, 1.9, 4.4, 0.0],\n",
    "                        [0.6, 0.0, 0.3, 0.0, 3.1, 0.0, 0.0],\n",
    "                        [0.7, 1.7, 0.6, 2.6, 2.2, 6.2, 0.0],\n",
    "                        [1.3, 1.2, 0.0, 0.0, 0.0, 3.2, 5.1],\n",
    "                        [0.1, 2.0, 0.0, 1.4, 0.0, 1.9, 6.3]])\n",
    "\n",
    "\n",
    "    fig, ax = plt.subplots()\n",
    "    im = ax.imshow(harvest)\n",
    "\n",
    "    # We want to show all ticks...\n",
    "    ax.set_xticks(np.arange(len(farmers)))\n",
    "    ax.set_yticks(np.arange(len(vegetables)))\n",
    "    # ... and label them with the respective list entries\n",
    "    ax.set_xticklabels(farmers)\n",
    "    ax.set_yticklabels(vegetables)\n",
    "\n",
    "    # Rotate the tick labels and set their alignment.\n",
    "    plt.setp(ax.get_xticklabels(), rotation=45, ha=\"right\",\n",
    "             rotation_mode=\"anchor\")\n",
    "\n",
    "    # Loop over data dimensions and create text annotations.\n",
    "    for i in range(len(vegetables)):\n",
    "        for j in range(len(farmers)):\n",
    "            text = ax.text(j, i, harvest[i, j],\n",
    "                           ha=\"center\", va=\"center\", color=\"w\")\n",
    "\n",
    "    ax.set_title(\"Harvest of local farmers (in tons/year)\")\n",
    "    fig.tight_layout()\n",
    "    plt.show()"
   ]
  }
 ],
 "metadata": {
  "kernelspec": {
   "display_name": "Python 3",
   "language": "python",
   "name": "python3"
  },
  "language_info": {
   "codemirror_mode": {
    "name": "ipython",
    "version": 3
   },
   "file_extension": ".py",
   "mimetype": "text/x-python",
   "name": "python",
   "nbconvert_exporter": "python",
   "pygments_lexer": "ipython3",
   "version": "3.7.0"
  }
 },
 "nbformat": 4,
 "nbformat_minor": 2
}
