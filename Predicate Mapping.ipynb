{
 "cells": [
  {
   "cell_type": "markdown",
   "metadata": {},
   "source": [
    "# INSTRUCTIONS:\n",
    "1) Generate tuples using AllenNLP\n",
    "\n",
    "2) Call create_id_files\n",
    "\n",
    "3) Run Train_TransE\n",
    "\n",
    "4) Call reduce_relations"
   ]
  },
  {
   "cell_type": "code",
   "execution_count": 9,
   "metadata": {},
   "outputs": [],
   "source": [
    "import numpy as np\n",
    "import json\n",
    "import matplotlib.pyplot as plt"
   ]
  },
  {
   "cell_type": "code",
   "execution_count": 10,
   "metadata": {},
   "outputs": [],
   "source": [
    "def get_ids(idfile):\n",
    "    with open(idfile, 'r') as infile:\n",
    "        lines = infile.read().split('\\n')\n",
    "        ilist = [''] * len(lines)\n",
    "        for pair in lines:\n",
    "            p = pair.split('\\t')\n",
    "            ilist[int(p[1])] = p[0]\n",
    "    return ilist\n",
    "    \n",
    "def get_vectors(vecfile):\n",
    "    with open(vecfile, 'r') as infile:\n",
    "        lines = infile.read().split('\\n')\n",
    "        vlist = [np.array([float(s) for s in vec.split('\\t') if len(s) > 0]) for vec in lines]\n",
    "    return np.array(vlist)\n",
    "\n",
    "def combine_relations(R, thresh):\n",
    "    \"\"\"\n",
    "    R is a (M, N) matrix where M is the number of relations and N is the size of a relation\n",
    "    Returns a list of K indices and a (K, N) matrix where K is the new number of relations \n",
    "    which have been combined based on the cosine similarity threshold\n",
    "    \"\"\"\n",
    "    still_combining = True\n",
    "    combined = np.copy(R)\n",
    "    indices = list(range(len(R)))\n",
    "    newindices = list(range(len(R)))\n",
    "    while still_combining:\n",
    "        still_combining = False\n",
    "        for i in range(len(combined)):\n",
    "            for j in range(len(combined)-1,i,-1):\n",
    "                cos_sim = np.dot(combined[i,:], combined[j,:]) / (np.linalg.norm(combined[i,:]) * np.linalg.norm(combined[j,:]))\n",
    "                if cos_sim > thresh:\n",
    "                    still_combining = True\n",
    "                    combined = np.delete(combined, j, 0)\n",
    "                    newindices[indices.pop(j)] = i\n",
    "    return newindices, combined\n",
    "\n",
    "def reduce_relations(ridfile, rvecfile, reducefile, thresh):\n",
    "    rids = get_ids(ridfile)\n",
    "    rvecs = get_vectors(rvecfile)\n",
    "    newids, rvecs = combine_relations(rvecs, thresh)\n",
    "    with open(reducefile, \"w\") as outfile:\n",
    "      for i in newids:\n",
    "        outfile.write(\"%s\\t%s\\n\" %(rids[i], i))\n",
    "    return [rids[i] for i in newids]\n"
   ]
  },
  {
   "cell_type": "code",
   "execution_count": 11,
   "metadata": {},
   "outputs": [
    {
     "data": {
      "text/plain": [
       "([0, 0, 2], array([[1, 0, 0],\n",
       "        [0, 1, 0]]))"
      ]
     },
     "execution_count": 11,
     "metadata": {},
     "output_type": "execute_result"
    }
   ],
   "source": [
    "a = np.array([[1,0,0],[1,0,0],[0,1,0]])\n",
    "combine_relations(a, 0.5)"
   ]
  },
  {
   "cell_type": "code",
   "execution_count": 13,
   "metadata": {},
   "outputs": [
    {
     "ename": "FileNotFoundError",
     "evalue": "[Errno 2] No such file or directory: 'data/relation2vec.csv'",
     "output_type": "error",
     "traceback": [
      "\u001b[0;31m---------------------------------------------------------------------------\u001b[0m",
      "\u001b[0;31mFileNotFoundError\u001b[0m                         Traceback (most recent call last)",
      "\u001b[0;32m<ipython-input-13-49952c88e637>\u001b[0m in \u001b[0;36m<module>\u001b[0;34m()\u001b[0m\n\u001b[0;32m----> 1\u001b[0;31m \u001b[0mlist\u001b[0m\u001b[0;34m(\u001b[0m\u001b[0mzip\u001b[0m\u001b[0;34m(\u001b[0m\u001b[0mreduce_relations\u001b[0m\u001b[0;34m(\u001b[0m\u001b[0;34m'data/relation2id.txt'\u001b[0m\u001b[0;34m,\u001b[0m \u001b[0;34m'data/relation2vec.csv'\u001b[0m\u001b[0;34m,\u001b[0m \u001b[0;34m'data/combined_relations.txt'\u001b[0m\u001b[0;34m,\u001b[0m \u001b[0;36m0.22\u001b[0m\u001b[0;34m)\u001b[0m\u001b[0;34m,\u001b[0m \u001b[0mget_ids\u001b[0m\u001b[0;34m(\u001b[0m\u001b[0;34m'data/relation2id.txt'\u001b[0m\u001b[0;34m)\u001b[0m\u001b[0;34m)\u001b[0m\u001b[0;34m)\u001b[0m\u001b[0;34m\u001b[0m\u001b[0m\n\u001b[0m",
      "\u001b[0;32m<ipython-input-10-17f124413666>\u001b[0m in \u001b[0;36mreduce_relations\u001b[0;34m(ridfile, rvecfile, reducefile, thresh)\u001b[0m\n\u001b[1;32m     37\u001b[0m \u001b[0;32mdef\u001b[0m \u001b[0mreduce_relations\u001b[0m\u001b[0;34m(\u001b[0m\u001b[0mridfile\u001b[0m\u001b[0;34m,\u001b[0m \u001b[0mrvecfile\u001b[0m\u001b[0;34m,\u001b[0m \u001b[0mreducefile\u001b[0m\u001b[0;34m,\u001b[0m \u001b[0mthresh\u001b[0m\u001b[0;34m)\u001b[0m\u001b[0;34m:\u001b[0m\u001b[0;34m\u001b[0m\u001b[0m\n\u001b[1;32m     38\u001b[0m     \u001b[0mrids\u001b[0m \u001b[0;34m=\u001b[0m \u001b[0mget_ids\u001b[0m\u001b[0;34m(\u001b[0m\u001b[0mridfile\u001b[0m\u001b[0;34m)\u001b[0m\u001b[0;34m\u001b[0m\u001b[0m\n\u001b[0;32m---> 39\u001b[0;31m     \u001b[0mrvecs\u001b[0m \u001b[0;34m=\u001b[0m \u001b[0mget_vectors\u001b[0m\u001b[0;34m(\u001b[0m\u001b[0mrvecfile\u001b[0m\u001b[0;34m)\u001b[0m\u001b[0;34m\u001b[0m\u001b[0m\n\u001b[0m\u001b[1;32m     40\u001b[0m     \u001b[0mnewids\u001b[0m\u001b[0;34m,\u001b[0m \u001b[0mrvecs\u001b[0m \u001b[0;34m=\u001b[0m \u001b[0mcombine_relations\u001b[0m\u001b[0;34m(\u001b[0m\u001b[0mrvecs\u001b[0m\u001b[0;34m,\u001b[0m \u001b[0mthresh\u001b[0m\u001b[0;34m)\u001b[0m\u001b[0;34m\u001b[0m\u001b[0m\n\u001b[1;32m     41\u001b[0m     \u001b[0;32mwith\u001b[0m \u001b[0mopen\u001b[0m\u001b[0;34m(\u001b[0m\u001b[0mreducefile\u001b[0m\u001b[0;34m,\u001b[0m \u001b[0;34m\"w\"\u001b[0m\u001b[0;34m)\u001b[0m \u001b[0;32mas\u001b[0m \u001b[0moutfile\u001b[0m\u001b[0;34m:\u001b[0m\u001b[0;34m\u001b[0m\u001b[0m\n",
      "\u001b[0;32m<ipython-input-10-17f124413666>\u001b[0m in \u001b[0;36mget_vectors\u001b[0;34m(vecfile)\u001b[0m\n\u001b[1;32m      9\u001b[0m \u001b[0;34m\u001b[0m\u001b[0m\n\u001b[1;32m     10\u001b[0m \u001b[0;32mdef\u001b[0m \u001b[0mget_vectors\u001b[0m\u001b[0;34m(\u001b[0m\u001b[0mvecfile\u001b[0m\u001b[0;34m)\u001b[0m\u001b[0;34m:\u001b[0m\u001b[0;34m\u001b[0m\u001b[0m\n\u001b[0;32m---> 11\u001b[0;31m     \u001b[0;32mwith\u001b[0m \u001b[0mopen\u001b[0m\u001b[0;34m(\u001b[0m\u001b[0mvecfile\u001b[0m\u001b[0;34m,\u001b[0m \u001b[0;34m'r'\u001b[0m\u001b[0;34m)\u001b[0m \u001b[0;32mas\u001b[0m \u001b[0minfile\u001b[0m\u001b[0;34m:\u001b[0m\u001b[0;34m\u001b[0m\u001b[0m\n\u001b[0m\u001b[1;32m     12\u001b[0m         \u001b[0mlines\u001b[0m \u001b[0;34m=\u001b[0m \u001b[0minfile\u001b[0m\u001b[0;34m.\u001b[0m\u001b[0mread\u001b[0m\u001b[0;34m(\u001b[0m\u001b[0;34m)\u001b[0m\u001b[0;34m.\u001b[0m\u001b[0msplit\u001b[0m\u001b[0;34m(\u001b[0m\u001b[0;34m'\\n'\u001b[0m\u001b[0;34m)\u001b[0m\u001b[0;34m\u001b[0m\u001b[0m\n\u001b[1;32m     13\u001b[0m         \u001b[0mvlist\u001b[0m \u001b[0;34m=\u001b[0m \u001b[0;34m[\u001b[0m\u001b[0mnp\u001b[0m\u001b[0;34m.\u001b[0m\u001b[0marray\u001b[0m\u001b[0;34m(\u001b[0m\u001b[0;34m[\u001b[0m\u001b[0mfloat\u001b[0m\u001b[0;34m(\u001b[0m\u001b[0ms\u001b[0m\u001b[0;34m)\u001b[0m \u001b[0;32mfor\u001b[0m \u001b[0ms\u001b[0m \u001b[0;32min\u001b[0m \u001b[0mvec\u001b[0m\u001b[0;34m.\u001b[0m\u001b[0msplit\u001b[0m\u001b[0;34m(\u001b[0m\u001b[0;34m'\\t'\u001b[0m\u001b[0;34m)\u001b[0m \u001b[0;32mif\u001b[0m \u001b[0mlen\u001b[0m\u001b[0;34m(\u001b[0m\u001b[0ms\u001b[0m\u001b[0;34m)\u001b[0m \u001b[0;34m>\u001b[0m \u001b[0;36m0\u001b[0m\u001b[0;34m]\u001b[0m\u001b[0;34m)\u001b[0m \u001b[0;32mfor\u001b[0m \u001b[0mvec\u001b[0m \u001b[0;32min\u001b[0m \u001b[0mlines\u001b[0m\u001b[0;34m]\u001b[0m\u001b[0;34m\u001b[0m\u001b[0m\n",
      "\u001b[0;31mFileNotFoundError\u001b[0m: [Errno 2] No such file or directory: 'data/relation2vec.csv'"
     ]
    }
   ],
   "source": [
    "list(zip(reduce_relations('data/relation2id.txt', 'data/relation2vec.csv', 'data/combined_relations.txt', 0.22), get_ids('data/relation2id.txt')))"
   ]
  },
  {
   "cell_type": "code",
   "execution_count": 5,
   "metadata": {},
   "outputs": [],
   "source": [
    "def create_id_files(triplefile, relationfile, entityfile):\n",
    "    entities = set()\n",
    "    relations = set()\n",
    "    with open(triplefile, 'r') as infile:\n",
    "        for line in infile.read().split('\\n'):\n",
    "            if line == '':\n",
    "                continue\n",
    "            triple = line.split('\\t')\n",
    "            entities.add(triple[0])\n",
    "            entities.add(triple[1])\n",
    "            relations.add(triple[2])\n",
    "    entities = list(entities)\n",
    "    relations = list(relations)\n",
    "    with open(relationfile, 'w') as outfile:\n",
    "        outfile.write('\\n'.join([relations[i] + '\\t' + str(i) for i in range(len(relations))]))\n",
    "    with open(entityfile, 'w') as outfile:\n",
    "        outfile.write('\\n'.join([entities[i] + \"\\t\" + str(i) for i in range(len(entities))]))"
   ]
  },
  {
   "cell_type": "code",
   "execution_count": 6,
   "metadata": {},
   "outputs": [],
   "source": [
    "create_id_files('data/relation_tuples.txt', 'data/relation2id.txt', 'data/entity2id.txt')"
   ]
  },
  {
   "cell_type": "code",
   "execution_count": 7,
   "metadata": {},
   "outputs": [],
   "source": [
    "def to_json(eidfile, triplefile, jsonfile):\n",
    "    jsondict = {\"nodes\": [], \"links\": []}\n",
    "    entities = get_ids(eidfile)\n",
    "    \n",
    "    for i in range(len(entities)):\n",
    "        jsondict[\"nodes\"].append({\"id\": i, \"name\": entities[i]})\n",
    "        \n",
    "    with open(triplefile, 'r') as infile:\n",
    "        for line in infile.read().split('\\n'):\n",
    "            if line == '':\n",
    "                continue\n",
    "            triple = line.split('\\t')\n",
    "            jsondict[\"links\"].append({\"source\": entities.index(triple[0]),\"target\": entities.index(triple[1]),\"name\":triple[2]})\n",
    "    \n",
    "    with open(jsonfile, 'w') as outfile:\n",
    "        outfile.write(json.dumps(jsondict))"
   ]
  },
  {
   "cell_type": "code",
   "execution_count": 8,
   "metadata": {},
   "outputs": [],
   "source": [
    "#to_json('data/entity2id.txt', 'data/relation_tuples.txt', 'viz/relations.json')"
   ]
  },
  {
   "cell_type": "code",
   "execution_count": null,
   "metadata": {},
   "outputs": [],
   "source": [
    "def heat_map():\n",
    "    # sphinx_gallery_thumbnail_number = 2\n",
    "    vegetables = [\"cucumber\", \"tomato\", \"lettuce\", \"asparagus\",\n",
    "                  \"potato\", \"wheat\", \"barley\"]\n",
    "    farmers = [\"Farmer Joe\", \"Upland Bros.\", \"Smith Gardening\",\n",
    "               \"Agrifun\", \"Organiculture\", \"BioGoods Ltd.\", \"Cornylee Corp.\"]\n",
    "\n",
    "    harvest = np.array([[0.8, 2.4, 2.5, 3.9, 0.0, 4.0, 0.0],\n",
    "                        [2.4, 0.0, 4.0, 1.0, 2.7, 0.0, 0.0],\n",
    "                        [1.1, 2.4, 0.8, 4.3, 1.9, 4.4, 0.0],\n",
    "                        [0.6, 0.0, 0.3, 0.0, 3.1, 0.0, 0.0],\n",
    "                        [0.7, 1.7, 0.6, 2.6, 2.2, 6.2, 0.0],\n",
    "                        [1.3, 1.2, 0.0, 0.0, 0.0, 3.2, 5.1],\n",
    "                        [0.1, 2.0, 0.0, 1.4, 0.0, 1.9, 6.3]])\n",
    "\n",
    "\n",
    "    fig, ax = plt.subplots()\n",
    "    im = ax.imshow(harvest)\n",
    "\n",
    "    # We want to show all ticks...\n",
    "    ax.set_xticks(np.arange(len(farmers)))\n",
    "    ax.set_yticks(np.arange(len(vegetables)))\n",
    "    # ... and label them with the respective list entries\n",
    "    ax.set_xticklabels(farmers)\n",
    "    ax.set_yticklabels(vegetables)\n",
    "\n",
    "    # Rotate the tick labels and set their alignment.\n",
    "    plt.setp(ax.get_xticklabels(), rotation=45, ha=\"right\",\n",
    "             rotation_mode=\"anchor\")\n",
    "\n",
    "    # Loop over data dimensions and create text annotations.\n",
    "    for i in range(len(vegetables)):\n",
    "        for j in range(len(farmers)):\n",
    "            text = ax.text(j, i, harvest[i, j],\n",
    "                           ha=\"center\", va=\"center\", color=\"w\")\n",
    "\n",
    "    ax.set_title(\"Harvest of local farmers (in tons/year)\")\n",
    "    fig.tight_layout()\n",
    "    plt.show()"
   ]
  }
 ],
 "metadata": {
  "kernelspec": {
   "display_name": "Python 3",
   "language": "python",
   "name": "python3"
  },
  "language_info": {
   "codemirror_mode": {
    "name": "ipython",
    "version": 3
   },
   "file_extension": ".py",
   "mimetype": "text/x-python",
   "name": "python",
   "nbconvert_exporter": "python",
   "pygments_lexer": "ipython3",
   "version": "3.7.0"
  }
 },
 "nbformat": 4,
 "nbformat_minor": 2
}
